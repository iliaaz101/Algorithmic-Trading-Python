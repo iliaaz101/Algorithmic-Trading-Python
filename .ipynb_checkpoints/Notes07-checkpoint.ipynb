{
 "cells": [
  {
   "cell_type": "markdown",
   "id": "ebe87f62",
   "metadata": {},
   "source": [
    "# Section 7: Financial Concepts with Python"
   ]
  },
  {
   "cell_type": "markdown",
   "id": "7b6da9e7",
   "metadata": {},
   "source": [
    "#### Discussion Topics (Review from CSC course):\n",
    "- Efficient Market Hypothesis\n",
    "- Measures of Return and Risk\n",
    "- Sharpe Ratios\n",
    "- Modern Portfolio Theory\n",
    "- Capital Asset Pricing Model"
   ]
  },
  {
   "cell_type": "markdown",
   "id": "e9978302",
   "metadata": {},
   "source": [
    "## Efficient Market Hypothesis (EMH)"
   ]
  },
  {
   "cell_type": "markdown",
   "id": "234c46c2",
   "metadata": {},
   "source": [
    "- states that asset prices reflect all avaialble information\n",
    "- implies that all prices on the market are the fair value and its not possible to buy \"undervalued\" assets or consistently generate returns above market performance\n",
    "- Random Walk Hypothesis: suggests changes in the stock prices have the same distribution and are independent of eacher other\n",
    "    - past prices does not influence future prices and cant be used to predict future prices\n",
    "    - Random Walk is a feature of EMH and there is some validity in it\n",
    "#### But the EMH is not completely True"
   ]
  },
  {
   "cell_type": "markdown",
   "id": "337facdc",
   "metadata": {},
   "source": [
    "#### investing vs trading\n",
    "- investing in securities:\n",
    "    - securities are held for long periods of time (1 year or more)\n",
    "    - goal is to build wealth over time, taking advantage of compound interest effects\n",
    "- Trading securities:\n",
    "    - more frequent transactions and typically shorter holding periods\n",
    "    - primary goal is to beat market perforamcne for some set time period\n",
    "        - e.g. beat the SP500 performance for the next 6 months"
   ]
  },
  {
   "cell_type": "markdown",
   "id": "d5c7a8c2",
   "metadata": {},
   "source": [
    "#### Evidence to disagree with EMH being 100% true\n",
    "- Buffet's out performance of the SP500 for decades\n",
    "- There is information out there that we not is not available to the market (public)\n",
    "    - Insider Information: involves the illegal use of non-public info to trade\n",
    "    - Company Fraud: involves general illegal activity or misreporting by a company\n",
    "        - can the market be fairly pricing of companies with fradulent reporting\n",
    "    - Proprietary Information: invovles the use of creating your own data from publicy available sources\n",
    "        - satellite photos of parking lots to estimate retail sales activity\n",
    "        - measuring how deep trading cargo ships sink into water to determine amount of cargo on board"
   ]
  },
  {
   "cell_type": "markdown",
   "id": "b4ff2d96",
   "metadata": {},
   "source": [
    "How do we interpret the EMH?\n",
    "- Invest in Securities:\n",
    "    - actively trading managers largely don't outperform the market\n",
    "- Trading in Securities:\n",
    "    - Our assumption: for certain time frames with certain information strategies, it is possible to beat market returns\n",
    "\n"
   ]
  },
  {
   "cell_type": "markdown",
   "id": "fb31074a",
   "metadata": {},
   "source": [
    "## Measurements of Return"
   ]
  },
  {
   "cell_type": "markdown",
   "id": "18081729",
   "metadata": {},
   "source": [
    "- what is **fair** comparison?\n",
    "    - we want our metrics to be **normalized** in order to be relevant regardless of number of outstanding shares or individual stock price\n",
    "    - we can \"normalize\" by expression everything in the sense of ***PERCENT GAIN***\n",
    "        - this allows us to faily compare two different holdings\n",
    "    - However, the time periods of holdings can be different (e.g. 2 years vs. 6 months)\n",
    "        - we can address this issue by focusing on a smaller unit of time, such as ***DAILY PERCENT RETURNS***\n",
    "    - As long as we've held the security for some time, we can calcualte the ***MEAN DAILY PERCENT RETURN*** (daily percent return/# of days)\n",
    "        - *this allows us to compare returns for different securities across different holding periods*"
   ]
  },
  {
   "cell_type": "markdown",
   "id": "b05dc19d",
   "metadata": {},
   "source": [
    "- we can use **mean daily percent return** as a normalized metric between different holdings for different time periods\n",
    "- it's important to be aware of the effect of longer or shorter holding periods, in which case, we need to think about the **distribution** of these daily returns"
   ]
  },
  {
   "cell_type": "markdown",
   "id": "40c9848b",
   "metadata": {},
   "source": [
    "## Measurement of Risk"
   ]
  },
  {
   "cell_type": "markdown",
   "id": "ce244111",
   "metadata": {},
   "source": [
    "- Risk is measuring the **dispersion** and **variance** of the price in between the start and end of the time period being analyzed\n",
    "- risk is defined as the ***variance*** or ***standard deviation*** of a holding or portflio\n",
    "- we saw that daily percent returns can be used to calculate a mean return metric that would be flexible to multiple holding periods\n",
    "    - similarly, we can calcualte the **STANDARD DEVIATION OF DAILY PERCENT RETURNS** to get a measurement of risk\n",
    "- using a standard deviation of daily percent returns, we can compare different holdings across different time periods"
   ]
  },
  {
   "cell_type": "markdown",
   "id": "0fbb35e4",
   "metadata": {},
   "source": [
    "## Sharpe Ratio: Theory and Intuition"
   ]
  },
  {
   "cell_type": "markdown",
   "id": "84598bd2",
   "metadata": {},
   "source": [
    "- Sharpe ratio combines our measurements of risk and return to compare different securities\n",
    "- **risk free rate of return** is the annualied yield of a \"risk free\" investment, typically a U.S Treasury bond\n",
    "    - it is considered to be a safe investment because the govt can always meet its obligation to pay the principal + interest of the treasury bond by printing more money\n",
    "        - It's not as simple since, printing too much money raises inflation\n",
    "        - The U.S. and other countries have **debt ceilings**, which means that theoretically, if the debt ceiling is not raised, the govt won't print more money and can't repay (this is unlikely)"
   ]
  },
  {
   "cell_type": "markdown",
   "id": "cf7f7750",
   "metadata": {},
   "source": [
    "- Sharpe ratio was originally called **reward-to-variability** ratio\n",
    "    - Sharpe Ratio: mean asset return/ std. dev. of asset returns\n",
    "    - **Sharpe Ratio: measurement of return / measurement of risk**\n",
    "- **The larger the Sharpe ratio, the better**\n",
    "    - the numerator is the measure of our return\n",
    "        - we want this to be large\n",
    "    - the denominator is the measure of our risk\n",
    "        - we want this to be small\n"
   ]
  },
  {
   "cell_type": "markdown",
   "id": "5d0ef510",
   "metadata": {},
   "source": [
    "**Mean Asset Returns:**\n",
    "- Daily Percent Return:\n",
    "    - python code: df['Adj Close'].pct_change(1).mean()\n",
    "\n",
    "**Standard Deviation of Asset Returns**\n",
    "- Std. Dev. of Daily Percent Returns\n",
    "    - python code: df['Adj Close'].pct_change(1).std()"
   ]
  },
  {
   "cell_type": "markdown",
   "id": "3b142650",
   "metadata": {},
   "source": [
    "#### Changing a Daily Sharpe Ratio to Yearly Sharpe Ratio\n",
    "- there are 252 trading days in a year\n",
    "- std is the square root of variance, meaning to be consistent with our units, we need to multiply a daily Sharpe Ratio by sqrt(252) to convert it to a yearly Sharpe Ratio\n",
    "\n",
    "**Yearly Sharpe Ratio** = Daily Sharpe Ratio * sqrt(252)"
   ]
  },
  {
   "cell_type": "markdown",
   "id": "3de42715",
   "metadata": {},
   "source": [
    "### What is a good yearly Sharpe Ratio (SR)\n",
    "**Generally speaking, no universal law**\n",
    "- SR 0-1 :considered to be sub-optimal\n",
    "    - the SP500 generally has a SR of 1, so you might be undeprforming the market\n",
    "- SR 1-2: good\n",
    "- SR 2-3: really good\n",
    "- SR 3+: the best\n",
    "\n",
    "<p>Make sure to compare portflois with same time period as the longer a portfolio is running, the lower its sharpe ratio would be generally speaking"
   ]
  },
  {
   "cell_type": "markdown",
   "id": "28c8c14e",
   "metadata": {},
   "source": [
    "## Sharpe Ratio: Python Implementation"
   ]
  },
  {
   "cell_type": "code",
   "execution_count": 1,
   "id": "0245c85d",
   "metadata": {},
   "outputs": [],
   "source": [
    "import pandas as pd"
   ]
  },
  {
   "cell_type": "code",
   "execution_count": 2,
   "id": "0a6af515",
   "metadata": {},
   "outputs": [],
   "source": [
    "aapl = pd.read_csv('apple.csv',index_col='Date',parse_dates=True)"
   ]
  },
  {
   "cell_type": "code",
   "execution_count": 3,
   "id": "8a2b69c2",
   "metadata": {},
   "outputs": [],
   "source": [
    "msft = pd.read_csv('msft.csv',index_col='Date',parse_dates=True)"
   ]
  },
  {
   "cell_type": "code",
   "execution_count": 5,
   "id": "6d10160f",
   "metadata": {},
   "outputs": [
    {
     "data": {
      "text/html": [
       "<div>\n",
       "<style scoped>\n",
       "    .dataframe tbody tr th:only-of-type {\n",
       "        vertical-align: middle;\n",
       "    }\n",
       "\n",
       "    .dataframe tbody tr th {\n",
       "        vertical-align: top;\n",
       "    }\n",
       "\n",
       "    .dataframe thead th {\n",
       "        text-align: right;\n",
       "    }\n",
       "</style>\n",
       "<table border=\"1\" class=\"dataframe\">\n",
       "  <thead>\n",
       "    <tr style=\"text-align: right;\">\n",
       "      <th></th>\n",
       "      <th>Open</th>\n",
       "      <th>High</th>\n",
       "      <th>Low</th>\n",
       "      <th>Close</th>\n",
       "      <th>Adj Close</th>\n",
       "      <th>Volume</th>\n",
       "    </tr>\n",
       "    <tr>\n",
       "      <th>Date</th>\n",
       "      <th></th>\n",
       "      <th></th>\n",
       "      <th></th>\n",
       "      <th></th>\n",
       "      <th></th>\n",
       "      <th></th>\n",
       "    </tr>\n",
       "  </thead>\n",
       "  <tbody>\n",
       "    <tr>\n",
       "      <th>2015-12-31</th>\n",
       "      <td>26.752501</td>\n",
       "      <td>26.757500</td>\n",
       "      <td>26.205000</td>\n",
       "      <td>26.315001</td>\n",
       "      <td>24.266081</td>\n",
       "      <td>163649200</td>\n",
       "    </tr>\n",
       "    <tr>\n",
       "      <th>2016-01-04</th>\n",
       "      <td>25.652500</td>\n",
       "      <td>26.342501</td>\n",
       "      <td>25.500000</td>\n",
       "      <td>26.337500</td>\n",
       "      <td>24.286833</td>\n",
       "      <td>270597600</td>\n",
       "    </tr>\n",
       "    <tr>\n",
       "      <th>2016-01-05</th>\n",
       "      <td>26.437500</td>\n",
       "      <td>26.462500</td>\n",
       "      <td>25.602501</td>\n",
       "      <td>25.677500</td>\n",
       "      <td>23.678219</td>\n",
       "      <td>223164000</td>\n",
       "    </tr>\n",
       "    <tr>\n",
       "      <th>2016-01-06</th>\n",
       "      <td>25.139999</td>\n",
       "      <td>25.592501</td>\n",
       "      <td>24.967501</td>\n",
       "      <td>25.174999</td>\n",
       "      <td>23.214844</td>\n",
       "      <td>273829600</td>\n",
       "    </tr>\n",
       "    <tr>\n",
       "      <th>2016-01-07</th>\n",
       "      <td>24.670000</td>\n",
       "      <td>25.032499</td>\n",
       "      <td>24.107500</td>\n",
       "      <td>24.112499</td>\n",
       "      <td>22.235069</td>\n",
       "      <td>324377600</td>\n",
       "    </tr>\n",
       "    <tr>\n",
       "      <th>...</th>\n",
       "      <td>...</td>\n",
       "      <td>...</td>\n",
       "      <td>...</td>\n",
       "      <td>...</td>\n",
       "      <td>...</td>\n",
       "      <td>...</td>\n",
       "    </tr>\n",
       "    <tr>\n",
       "      <th>2021-08-23</th>\n",
       "      <td>148.309998</td>\n",
       "      <td>150.190002</td>\n",
       "      <td>147.889999</td>\n",
       "      <td>149.710007</td>\n",
       "      <td>149.710007</td>\n",
       "      <td>60131800</td>\n",
       "    </tr>\n",
       "    <tr>\n",
       "      <th>2021-08-24</th>\n",
       "      <td>149.449997</td>\n",
       "      <td>150.860001</td>\n",
       "      <td>149.149994</td>\n",
       "      <td>149.619995</td>\n",
       "      <td>149.619995</td>\n",
       "      <td>48606400</td>\n",
       "    </tr>\n",
       "    <tr>\n",
       "      <th>2021-08-25</th>\n",
       "      <td>149.809998</td>\n",
       "      <td>150.320007</td>\n",
       "      <td>147.800003</td>\n",
       "      <td>148.360001</td>\n",
       "      <td>148.360001</td>\n",
       "      <td>58991300</td>\n",
       "    </tr>\n",
       "    <tr>\n",
       "      <th>2021-08-26</th>\n",
       "      <td>148.350006</td>\n",
       "      <td>149.119995</td>\n",
       "      <td>147.509995</td>\n",
       "      <td>147.539993</td>\n",
       "      <td>147.539993</td>\n",
       "      <td>48597200</td>\n",
       "    </tr>\n",
       "    <tr>\n",
       "      <th>2021-08-27</th>\n",
       "      <td>147.479996</td>\n",
       "      <td>148.750000</td>\n",
       "      <td>146.830002</td>\n",
       "      <td>148.600006</td>\n",
       "      <td>148.600006</td>\n",
       "      <td>55721500</td>\n",
       "    </tr>\n",
       "  </tbody>\n",
       "</table>\n",
       "<p>1425 rows × 6 columns</p>\n",
       "</div>"
      ],
      "text/plain": [
       "                  Open        High         Low       Close   Adj Close  \\\n",
       "Date                                                                     \n",
       "2015-12-31   26.752501   26.757500   26.205000   26.315001   24.266081   \n",
       "2016-01-04   25.652500   26.342501   25.500000   26.337500   24.286833   \n",
       "2016-01-05   26.437500   26.462500   25.602501   25.677500   23.678219   \n",
       "2016-01-06   25.139999   25.592501   24.967501   25.174999   23.214844   \n",
       "2016-01-07   24.670000   25.032499   24.107500   24.112499   22.235069   \n",
       "...                ...         ...         ...         ...         ...   \n",
       "2021-08-23  148.309998  150.190002  147.889999  149.710007  149.710007   \n",
       "2021-08-24  149.449997  150.860001  149.149994  149.619995  149.619995   \n",
       "2021-08-25  149.809998  150.320007  147.800003  148.360001  148.360001   \n",
       "2021-08-26  148.350006  149.119995  147.509995  147.539993  147.539993   \n",
       "2021-08-27  147.479996  148.750000  146.830002  148.600006  148.600006   \n",
       "\n",
       "               Volume  \n",
       "Date                   \n",
       "2015-12-31  163649200  \n",
       "2016-01-04  270597600  \n",
       "2016-01-05  223164000  \n",
       "2016-01-06  273829600  \n",
       "2016-01-07  324377600  \n",
       "...               ...  \n",
       "2021-08-23   60131800  \n",
       "2021-08-24   48606400  \n",
       "2021-08-25   58991300  \n",
       "2021-08-26   48597200  \n",
       "2021-08-27   55721500  \n",
       "\n",
       "[1425 rows x 6 columns]"
      ]
     },
     "execution_count": 5,
     "metadata": {},
     "output_type": "execute_result"
    }
   ],
   "source": [
    "aapl"
   ]
  },
  {
   "cell_type": "code",
   "execution_count": 6,
   "id": "5724350a",
   "metadata": {},
   "outputs": [
    {
     "data": {
      "text/html": [
       "<div>\n",
       "<style scoped>\n",
       "    .dataframe tbody tr th:only-of-type {\n",
       "        vertical-align: middle;\n",
       "    }\n",
       "\n",
       "    .dataframe tbody tr th {\n",
       "        vertical-align: top;\n",
       "    }\n",
       "\n",
       "    .dataframe thead th {\n",
       "        text-align: right;\n",
       "    }\n",
       "</style>\n",
       "<table border=\"1\" class=\"dataframe\">\n",
       "  <thead>\n",
       "    <tr style=\"text-align: right;\">\n",
       "      <th></th>\n",
       "      <th>Open</th>\n",
       "      <th>High</th>\n",
       "      <th>Low</th>\n",
       "      <th>Close</th>\n",
       "      <th>Adj Close</th>\n",
       "      <th>Volume</th>\n",
       "    </tr>\n",
       "    <tr>\n",
       "      <th>Date</th>\n",
       "      <th></th>\n",
       "      <th></th>\n",
       "      <th></th>\n",
       "      <th></th>\n",
       "      <th></th>\n",
       "      <th></th>\n",
       "    </tr>\n",
       "  </thead>\n",
       "  <tbody>\n",
       "    <tr>\n",
       "      <th>2015-12-31</th>\n",
       "      <td>56.040001</td>\n",
       "      <td>56.189999</td>\n",
       "      <td>55.419998</td>\n",
       "      <td>55.480000</td>\n",
       "      <td>50.298279</td>\n",
       "      <td>27334100</td>\n",
       "    </tr>\n",
       "    <tr>\n",
       "      <th>2016-01-04</th>\n",
       "      <td>54.320000</td>\n",
       "      <td>54.799999</td>\n",
       "      <td>53.389999</td>\n",
       "      <td>54.799999</td>\n",
       "      <td>49.681782</td>\n",
       "      <td>53778000</td>\n",
       "    </tr>\n",
       "    <tr>\n",
       "      <th>2016-01-05</th>\n",
       "      <td>54.930000</td>\n",
       "      <td>55.389999</td>\n",
       "      <td>54.540001</td>\n",
       "      <td>55.049999</td>\n",
       "      <td>49.908432</td>\n",
       "      <td>34079700</td>\n",
       "    </tr>\n",
       "    <tr>\n",
       "      <th>2016-01-06</th>\n",
       "      <td>54.320000</td>\n",
       "      <td>54.400002</td>\n",
       "      <td>53.639999</td>\n",
       "      <td>54.049999</td>\n",
       "      <td>49.001839</td>\n",
       "      <td>39518900</td>\n",
       "    </tr>\n",
       "    <tr>\n",
       "      <th>2016-01-07</th>\n",
       "      <td>52.700001</td>\n",
       "      <td>53.490002</td>\n",
       "      <td>52.070000</td>\n",
       "      <td>52.169998</td>\n",
       "      <td>47.297417</td>\n",
       "      <td>56564900</td>\n",
       "    </tr>\n",
       "    <tr>\n",
       "      <th>...</th>\n",
       "      <td>...</td>\n",
       "      <td>...</td>\n",
       "      <td>...</td>\n",
       "      <td>...</td>\n",
       "      <td>...</td>\n",
       "      <td>...</td>\n",
       "    </tr>\n",
       "    <tr>\n",
       "      <th>2021-08-23</th>\n",
       "      <td>303.250000</td>\n",
       "      <td>305.399994</td>\n",
       "      <td>301.850006</td>\n",
       "      <td>304.649994</td>\n",
       "      <td>304.649994</td>\n",
       "      <td>22830200</td>\n",
       "    </tr>\n",
       "    <tr>\n",
       "      <th>2021-08-24</th>\n",
       "      <td>305.019989</td>\n",
       "      <td>305.649994</td>\n",
       "      <td>302.000000</td>\n",
       "      <td>302.619995</td>\n",
       "      <td>302.619995</td>\n",
       "      <td>18175800</td>\n",
       "    </tr>\n",
       "    <tr>\n",
       "      <th>2021-08-25</th>\n",
       "      <td>304.299988</td>\n",
       "      <td>304.589996</td>\n",
       "      <td>300.420013</td>\n",
       "      <td>302.010010</td>\n",
       "      <td>302.010010</td>\n",
       "      <td>20006100</td>\n",
       "    </tr>\n",
       "    <tr>\n",
       "      <th>2021-08-26</th>\n",
       "      <td>300.989990</td>\n",
       "      <td>302.429993</td>\n",
       "      <td>298.950012</td>\n",
       "      <td>299.089996</td>\n",
       "      <td>299.089996</td>\n",
       "      <td>17666100</td>\n",
       "    </tr>\n",
       "    <tr>\n",
       "      <th>2021-08-27</th>\n",
       "      <td>298.989990</td>\n",
       "      <td>300.869995</td>\n",
       "      <td>296.829987</td>\n",
       "      <td>299.720001</td>\n",
       "      <td>299.720001</td>\n",
       "      <td>22597000</td>\n",
       "    </tr>\n",
       "  </tbody>\n",
       "</table>\n",
       "<p>1425 rows × 6 columns</p>\n",
       "</div>"
      ],
      "text/plain": [
       "                  Open        High         Low       Close   Adj Close  \\\n",
       "Date                                                                     \n",
       "2015-12-31   56.040001   56.189999   55.419998   55.480000   50.298279   \n",
       "2016-01-04   54.320000   54.799999   53.389999   54.799999   49.681782   \n",
       "2016-01-05   54.930000   55.389999   54.540001   55.049999   49.908432   \n",
       "2016-01-06   54.320000   54.400002   53.639999   54.049999   49.001839   \n",
       "2016-01-07   52.700001   53.490002   52.070000   52.169998   47.297417   \n",
       "...                ...         ...         ...         ...         ...   \n",
       "2021-08-23  303.250000  305.399994  301.850006  304.649994  304.649994   \n",
       "2021-08-24  305.019989  305.649994  302.000000  302.619995  302.619995   \n",
       "2021-08-25  304.299988  304.589996  300.420013  302.010010  302.010010   \n",
       "2021-08-26  300.989990  302.429993  298.950012  299.089996  299.089996   \n",
       "2021-08-27  298.989990  300.869995  296.829987  299.720001  299.720001   \n",
       "\n",
       "              Volume  \n",
       "Date                  \n",
       "2015-12-31  27334100  \n",
       "2016-01-04  53778000  \n",
       "2016-01-05  34079700  \n",
       "2016-01-06  39518900  \n",
       "2016-01-07  56564900  \n",
       "...              ...  \n",
       "2021-08-23  22830200  \n",
       "2021-08-24  18175800  \n",
       "2021-08-25  20006100  \n",
       "2021-08-26  17666100  \n",
       "2021-08-27  22597000  \n",
       "\n",
       "[1425 rows x 6 columns]"
      ]
     },
     "execution_count": 6,
     "metadata": {},
     "output_type": "execute_result"
    }
   ],
   "source": [
    "msft"
   ]
  },
  {
   "cell_type": "code",
   "execution_count": 9,
   "id": "a47badb1",
   "metadata": {},
   "outputs": [],
   "source": [
    "# creating a col for the Daily Percentage Return\n",
    "aapl['Daily Return'] = aapl['Adj Close'].pct_change(1)"
   ]
  },
  {
   "cell_type": "code",
   "execution_count": 10,
   "id": "056a0cba",
   "metadata": {},
   "outputs": [],
   "source": [
    "msft['Daily Return'] = msft['Adj Close'].pct_change(1)"
   ]
  },
  {
   "cell_type": "code",
   "execution_count": 12,
   "id": "9ccbc803",
   "metadata": {},
   "outputs": [
    {
     "data": {
      "text/html": [
       "<div>\n",
       "<style scoped>\n",
       "    .dataframe tbody tr th:only-of-type {\n",
       "        vertical-align: middle;\n",
       "    }\n",
       "\n",
       "    .dataframe tbody tr th {\n",
       "        vertical-align: top;\n",
       "    }\n",
       "\n",
       "    .dataframe thead th {\n",
       "        text-align: right;\n",
       "    }\n",
       "</style>\n",
       "<table border=\"1\" class=\"dataframe\">\n",
       "  <thead>\n",
       "    <tr style=\"text-align: right;\">\n",
       "      <th></th>\n",
       "      <th>Open</th>\n",
       "      <th>High</th>\n",
       "      <th>Low</th>\n",
       "      <th>Close</th>\n",
       "      <th>Adj Close</th>\n",
       "      <th>Volume</th>\n",
       "      <th>Daily Return</th>\n",
       "    </tr>\n",
       "    <tr>\n",
       "      <th>Date</th>\n",
       "      <th></th>\n",
       "      <th></th>\n",
       "      <th></th>\n",
       "      <th></th>\n",
       "      <th></th>\n",
       "      <th></th>\n",
       "      <th></th>\n",
       "    </tr>\n",
       "  </thead>\n",
       "  <tbody>\n",
       "    <tr>\n",
       "      <th>2015-12-31</th>\n",
       "      <td>26.752501</td>\n",
       "      <td>26.757500</td>\n",
       "      <td>26.205000</td>\n",
       "      <td>26.315001</td>\n",
       "      <td>24.266081</td>\n",
       "      <td>163649200</td>\n",
       "      <td>NaN</td>\n",
       "    </tr>\n",
       "    <tr>\n",
       "      <th>2016-01-04</th>\n",
       "      <td>25.652500</td>\n",
       "      <td>26.342501</td>\n",
       "      <td>25.500000</td>\n",
       "      <td>26.337500</td>\n",
       "      <td>24.286833</td>\n",
       "      <td>270597600</td>\n",
       "      <td>0.000855</td>\n",
       "    </tr>\n",
       "    <tr>\n",
       "      <th>2016-01-05</th>\n",
       "      <td>26.437500</td>\n",
       "      <td>26.462500</td>\n",
       "      <td>25.602501</td>\n",
       "      <td>25.677500</td>\n",
       "      <td>23.678219</td>\n",
       "      <td>223164000</td>\n",
       "      <td>-0.025059</td>\n",
       "    </tr>\n",
       "    <tr>\n",
       "      <th>2016-01-06</th>\n",
       "      <td>25.139999</td>\n",
       "      <td>25.592501</td>\n",
       "      <td>24.967501</td>\n",
       "      <td>25.174999</td>\n",
       "      <td>23.214844</td>\n",
       "      <td>273829600</td>\n",
       "      <td>-0.019570</td>\n",
       "    </tr>\n",
       "    <tr>\n",
       "      <th>2016-01-07</th>\n",
       "      <td>24.670000</td>\n",
       "      <td>25.032499</td>\n",
       "      <td>24.107500</td>\n",
       "      <td>24.112499</td>\n",
       "      <td>22.235069</td>\n",
       "      <td>324377600</td>\n",
       "      <td>-0.042205</td>\n",
       "    </tr>\n",
       "  </tbody>\n",
       "</table>\n",
       "</div>"
      ],
      "text/plain": [
       "                 Open       High        Low      Close  Adj Close     Volume  \\\n",
       "Date                                                                           \n",
       "2015-12-31  26.752501  26.757500  26.205000  26.315001  24.266081  163649200   \n",
       "2016-01-04  25.652500  26.342501  25.500000  26.337500  24.286833  270597600   \n",
       "2016-01-05  26.437500  26.462500  25.602501  25.677500  23.678219  223164000   \n",
       "2016-01-06  25.139999  25.592501  24.967501  25.174999  23.214844  273829600   \n",
       "2016-01-07  24.670000  25.032499  24.107500  24.112499  22.235069  324377600   \n",
       "\n",
       "            Daily Return  \n",
       "Date                      \n",
       "2015-12-31           NaN  \n",
       "2016-01-04      0.000855  \n",
       "2016-01-05     -0.025059  \n",
       "2016-01-06     -0.019570  \n",
       "2016-01-07     -0.042205  "
      ]
     },
     "execution_count": 12,
     "metadata": {},
     "output_type": "execute_result"
    }
   ],
   "source": [
    "aapl.head() \n",
    "\n",
    "# notice that the first row has a NaN value as a result of the .pct_change()\n",
    "# this makes sense as there was no previous day for the first day \n",
    "# we should drop this row to prevent future issues in our calculations"
   ]
  },
  {
   "cell_type": "code",
   "execution_count": 13,
   "id": "cb7fc585",
   "metadata": {},
   "outputs": [],
   "source": [
    "aapl = aapl.dropna() # .dropna() drops \"Not a Number\" values"
   ]
  },
  {
   "cell_type": "code",
   "execution_count": 14,
   "id": "c37aa690",
   "metadata": {},
   "outputs": [],
   "source": [
    "msft = msft.dropna()"
   ]
  },
  {
   "cell_type": "code",
   "execution_count": 16,
   "id": "171c6ce2",
   "metadata": {},
   "outputs": [],
   "source": [
    "# functions assumes that we already of the daily percentage return\n",
    "def compute_sharpe_ratio(df,risk_free_rate=0):\n",
    "    mean_return = df['Daily Return'].mean()\n",
    "    std = df['Daily Return'].std()\n",
    "    \n",
    "    # DAILY SHARPE RATIO\n",
    "    # sharpe_ratio = (mean_return-risk_free_rate)/std\n",
    "    \n",
    "    # YEARLY SHARPE RATIO (multiply by sqrt(252))\n",
    "    sharpe_ratio = (mean_return-risk_free_rate)/std * (252**0.5) #np.sqrt(252)\n",
    "    \n",
    "    return sharpe_ratio"
   ]
  },
  {
   "cell_type": "code",
   "execution_count": 18,
   "id": "e065285f",
   "metadata": {},
   "outputs": [
    {
     "data": {
      "text/plain": [
       "1.2295225902465732"
      ]
     },
     "execution_count": 18,
     "metadata": {},
     "output_type": "execute_result"
    }
   ],
   "source": [
    "sr_apple = compute_sharpe_ratio(aapl) # daily sharpe ratio\n",
    "sr_apple"
   ]
  },
  {
   "cell_type": "code",
   "execution_count": 19,
   "id": "f59f0929",
   "metadata": {},
   "outputs": [
    {
     "data": {
      "text/plain": [
       "1.3052460572259017"
      ]
     },
     "execution_count": 19,
     "metadata": {},
     "output_type": "execute_result"
    }
   ],
   "source": [
    "sr_msft = compute_sharpe_ratio(msft)\n",
    "sr_msft"
   ]
  },
  {
   "cell_type": "code",
   "execution_count": 20,
   "id": "d7018c39",
   "metadata": {
    "scrolled": true
   },
   "outputs": [
    {
     "data": {
      "text/plain": [
       "<AxesSubplot:xlabel='Date'>"
      ]
     },
     "execution_count": 20,
     "metadata": {},
     "output_type": "execute_result"
    },
    {
     "data": {
      "image/png": "[encoded data removed]",
      "text/plain": [
       "<Figure size 640x480 with 1 Axes>"
      ]
     },
     "metadata": {},
     "output_type": "display_data"
    }
   ],
   "source": [
    "aapl['Adj Close'].plot()"
   ]
  },
  {
   "cell_type": "code",
   "execution_count": 21,
   "id": "f02cb96d",
   "metadata": {},
   "outputs": [
    {
     "data": {
      "text/plain": [
       "<AxesSubplot:xlabel='Date'>"
      ]
     },
     "execution_count": 21,
     "metadata": {},
     "output_type": "execute_result"
    },
    {
     "data": {
      "image/png": "[encoded data removed]",
      "text/plain": [
       "<Figure size 640x480 with 1 Axes>"
      ]
     },
     "metadata": {},
     "output_type": "display_data"
    }
   ],
   "source": [
    "msft['Adj Close'].plot()"
   ]
  },
  {
   "cell_type": "markdown",
   "id": "0909a846",
   "metadata": {},
   "source": [
    "## Sortino Ratio: Theory and Intuition\n",
    "- the sharpe ratio punished volatility (high std)\n",
    "- But, what about volatility in the positive side (volatility but the price is going up and up)\n",
    "    - we're just concerned with downside volatility\n",
    "    - we can accept volatility in the upside (when prices are increasing)\n",
    "<p><p>\n",
    "- we simply only take into account the volatility (std) for returns below a threshold (typically set a zero)\n",
    "        - returns where money was lost"
   ]
  },
  {
   "cell_type": "markdown",
   "id": "84b9b33d",
   "metadata": {},
   "source": [
    "## Sortinos: Python Implementation"
   ]
  },
  {
   "cell_type": "code",
   "execution_count": null,
   "id": "561ca314",
   "metadata": {},
   "outputs": [],
   "source": [
    "def compute_sortino_ratio(df,threshold=0,risk_free_rate=0):\n",
    "    "
   ]
  }
 ],
 "metadata": {
  "kernelspec": {
   "display_name": "Python 3 (ipykernel)",
   "language": "python",
   "name": "python3"
  },
  "language_info": {
   "codemirror_mode": {
    "name": "ipython",
    "version": 3
   },
   "file_extension": ".py",
   "mimetype": "text/x-python",
   "name": "python",
   "nbconvert_exporter": "python",
   "pygments_lexer": "ipython3",
   "version": "3.9.13"
  }
 },
 "nbformat": 4,
 "nbformat_minor": 5
}
