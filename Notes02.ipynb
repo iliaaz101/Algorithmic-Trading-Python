{
 "cells": [
  {
   "cell_type": "code",
   "execution_count": 4,
   "id": "4c7f0a37",
   "metadata": {},
   "outputs": [],
   "source": [
    "# this is how you leave a comment"
   ]
  },
  {
   "cell_type": "code",
   "execution_count": 5,
   "id": "963a6deb",
   "metadata": {},
   "outputs": [
    {
     "ename": "SyntaxError",
     "evalue": "invalid syntax (3243246576.py, line 1)",
     "output_type": "error",
     "traceback": [
      "\u001b[1;36m  File \u001b[1;32m\"C:\\Users\\iliaa\\AppData\\Local\\Temp\\ipykernel_16364\\3243246576.py\"\u001b[1;36m, line \u001b[1;32m1\u001b[0m\n\u001b[1;33m    1 -\u001b[0m\n\u001b[1;37m        ^\u001b[0m\n\u001b[1;31mSyntaxError\u001b[0m\u001b[1;31m:\u001b[0m invalid syntax\n"
     ]
    }
   ],
   "source": [
    "1 - "
   ]
  },
  {
   "cell_type": "code",
   "execution_count": 6,
   "id": "ac09d0d9",
   "metadata": {},
   "outputs": [
    {
     "data": {
      "text/plain": [
       "-1"
      ]
     },
     "execution_count": 6,
     "metadata": {},
     "output_type": "execute_result"
    }
   ],
   "source": [
    "1 - 2 "
   ]
  },
  {
   "cell_type": "code",
   "execution_count": 7,
   "id": "17b8b73d",
   "metadata": {},
   "outputs": [
    {
     "data": {
      "text/plain": [
       "2"
      ]
     },
     "execution_count": 7,
     "metadata": {},
     "output_type": "execute_result"
    }
   ],
   "source": [
    "# python uses snake-casing for its variable use\n",
    "name_of_var = 2\n",
    "name_of_var"
   ]
  },
  {
   "cell_type": "code",
   "execution_count": 8,
   "id": "33c2f7a2",
   "metadata": {},
   "outputs": [
    {
     "name": "stdout",
     "output_type": "stream",
     "text": [
      "hello\n"
     ]
    }
   ],
   "source": [
    "#how to print things\n",
    "x = \"hello\"\n",
    "print(x)\n",
    "# in jupyter notebook, when using print, there is no quotes around string and no out label\n"
   ]
  },
  {
   "cell_type": "code",
   "execution_count": 9,
   "id": "2f5f87ef",
   "metadata": {},
   "outputs": [],
   "source": [
    "name = \"Ilia Azari\""
   ]
  },
  {
   "cell_type": "code",
   "execution_count": 10,
   "id": "cd00ac4c",
   "metadata": {},
   "outputs": [
    {
     "name": "stdout",
     "output_type": "stream",
     "text": [
      "Hello my name is Ilia Azari\n"
     ]
    }
   ],
   "source": [
    "print(\"Hello my name is {}\".format(name))"
   ]
  },
  {
   "cell_type": "code",
   "execution_count": 11,
   "id": "8dd2a765",
   "metadata": {},
   "outputs": [],
   "source": [
    "number = 12"
   ]
  },
  {
   "cell_type": "code",
   "execution_count": 14,
   "id": "dfb7d01f",
   "metadata": {},
   "outputs": [
    {
     "name": "stdout",
     "output_type": "stream",
     "text": [
      "Hello my name is Ilia Azari and my number is 12\n"
     ]
    }
   ],
   "source": [
    "print(\"Hello my name is {} and my number is {}\".format(name, number))"
   ]
  },
  {
   "cell_type": "code",
   "execution_count": 15,
   "id": "2df7da2e",
   "metadata": {},
   "outputs": [
    {
     "name": "stdout",
     "output_type": "stream",
     "text": [
      "Hello my name is Ilia Azari and my number is 12\n"
     ]
    }
   ],
   "source": [
    "print(\"Hello my name is {x} and my number is {y}\".format(x=name, y=number))"
   ]
  },
  {
   "cell_type": "code",
   "execution_count": 16,
   "id": "94f4b819",
   "metadata": {},
   "outputs": [
    {
     "name": "stdout",
     "output_type": "stream",
     "text": [
      "Hello my name is 12 and my number is 12\n"
     ]
    }
   ],
   "source": [
    "print(\"Hello my name is {y} and my number is {y}\".format(x=name, y=number))"
   ]
  },
  {
   "cell_type": "code",
   "execution_count": 19,
   "id": "fb39c73b",
   "metadata": {},
   "outputs": [],
   "source": [
    "# LIST\n",
    "my_list = [1,2,3]"
   ]
  },
  {
   "cell_type": "code",
   "execution_count": 20,
   "id": "2dbb3e3d",
   "metadata": {},
   "outputs": [
    {
     "name": "stdout",
     "output_type": "stream",
     "text": [
      "[1, 2, 3]\n"
     ]
    }
   ],
   "source": [
    "print(my_list)"
   ]
  },
  {
   "cell_type": "code",
   "execution_count": 21,
   "id": "d64fcf1a",
   "metadata": {},
   "outputs": [
    {
     "data": {
      "text/plain": [
       "[1, 2, 3]"
      ]
     },
     "execution_count": 21,
     "metadata": {},
     "output_type": "execute_result"
    }
   ],
   "source": [
    "my_list"
   ]
  },
  {
   "cell_type": "code",
   "execution_count": 22,
   "id": "6dec5692",
   "metadata": {},
   "outputs": [],
   "source": [
    "my_list.append(4)"
   ]
  },
  {
   "cell_type": "code",
   "execution_count": 23,
   "id": "711f1681",
   "metadata": {},
   "outputs": [],
   "source": [
    "#how to slice a list\n",
    "# we can use the following notation [0:2] which is the following [0,2)\n",
    "second_list = my_list[0:2]"
   ]
  },
  {
   "cell_type": "code",
   "execution_count": 24,
   "id": "be61983d",
   "metadata": {},
   "outputs": [
    {
     "name": "stdout",
     "output_type": "stream",
     "text": [
      "[1, 2]\n"
     ]
    }
   ],
   "source": [
    "print(second_list)"
   ]
  },
  {
   "cell_type": "code",
   "execution_count": 25,
   "id": "e0b9b233",
   "metadata": {},
   "outputs": [
    {
     "data": {
      "text/plain": [
       "[1, 2, 3, 4]"
      ]
     },
     "execution_count": 25,
     "metadata": {},
     "output_type": "execute_result"
    }
   ],
   "source": [
    "my_list"
   ]
  },
  {
   "cell_type": "code",
   "execution_count": 26,
   "id": "c45a8258",
   "metadata": {},
   "outputs": [],
   "source": [
    "# nested lists\n",
    "nested = [1,2,['a','b']]"
   ]
  },
  {
   "cell_type": "code",
   "execution_count": 27,
   "id": "75b70f33",
   "metadata": {},
   "outputs": [
    {
     "data": {
      "text/plain": [
       "'a'"
      ]
     },
     "execution_count": 27,
     "metadata": {},
     "output_type": "execute_result"
    }
   ],
   "source": [
    "nested[2][0]"
   ]
  },
  {
   "cell_type": "code",
   "execution_count": 29,
   "id": "09899980",
   "metadata": {},
   "outputs": [],
   "source": [
    "#dictionaries are a hash table (hashMap) that consists of a (key,value) pair\n",
    "\n",
    "d = {'key':10,'key2':'secondItem'}"
   ]
  },
  {
   "cell_type": "code",
   "execution_count": 30,
   "id": "1857527a",
   "metadata": {},
   "outputs": [
    {
     "data": {
      "text/plain": [
       "'secondItem'"
      ]
     },
     "execution_count": 30,
     "metadata": {},
     "output_type": "execute_result"
    }
   ],
   "source": [
    "d['key2']"
   ]
  },
  {
   "cell_type": "code",
   "execution_count": 31,
   "id": "b9cb33f0",
   "metadata": {},
   "outputs": [
    {
     "data": {
      "text/plain": [
       "True"
      ]
     },
     "execution_count": 31,
     "metadata": {},
     "output_type": "execute_result"
    }
   ],
   "source": [
    "True"
   ]
  },
  {
   "cell_type": "code",
   "execution_count": 33,
   "id": "41ca0d15",
   "metadata": {},
   "outputs": [
    {
     "data": {
      "text/plain": [
       "False"
      ]
     },
     "execution_count": 33,
     "metadata": {},
     "output_type": "execute_result"
    }
   ],
   "source": [
    "False"
   ]
  },
  {
   "cell_type": "code",
   "execution_count": 34,
   "id": "04690563",
   "metadata": {},
   "outputs": [],
   "source": [
    "t = (1,2,3)"
   ]
  },
  {
   "cell_type": "code",
   "execution_count": 38,
   "id": "98c99d0a",
   "metadata": {},
   "outputs": [],
   "source": [
    "# lists are mutable [1,2,3]\n",
    "# tuples are immutable (1,2,3)"
   ]
  },
  {
   "cell_type": "code",
   "execution_count": 41,
   "id": "3af507cb",
   "metadata": {},
   "outputs": [
    {
     "name": "stdout",
     "output_type": "stream",
     "text": [
      "{1, 4, 5, 6, 7, 32325}\n"
     ]
    }
   ],
   "source": [
    "# sets are an unordered collection of unique elements\n",
    "# each element has 1 member\n",
    "s = {1,1,1,1,1,4,4,5,5,6,7,7,32325}\n",
    "print(s)"
   ]
  },
  {
   "cell_type": "code",
   "execution_count": 42,
   "id": "a30c4108",
   "metadata": {},
   "outputs": [
    {
     "data": {
      "text/plain": [
       "{1, 4, 5, 6, 7, 32325}"
      ]
     },
     "execution_count": 42,
     "metadata": {},
     "output_type": "execute_result"
    }
   ],
   "source": [
    "s"
   ]
  },
  {
   "cell_type": "code",
   "execution_count": 43,
   "id": "48a653f5",
   "metadata": {},
   "outputs": [],
   "source": [
    "# the repeat items are not repeated"
   ]
  },
  {
   "cell_type": "code",
   "execution_count": 44,
   "id": "5b824cbe",
   "metadata": {},
   "outputs": [
    {
     "data": {
      "text/plain": [
       "1.5707963267948966"
      ]
     },
     "execution_count": 44,
     "metadata": {},
     "output_type": "execute_result"
    }
   ],
   "source": [
    "import math\n",
    "math.acos(0)"
   ]
  },
  {
   "cell_type": "code",
   "execution_count": 46,
   "id": "3cc63e55",
   "metadata": {},
   "outputs": [
    {
     "data": {
      "text/plain": [
       "3.0"
      ]
     },
     "execution_count": 46,
     "metadata": {},
     "output_type": "execute_result"
    }
   ],
   "source": [
    "math.sqrt(9)"
   ]
  },
  {
   "cell_type": "code",
   "execution_count": 47,
   "id": "690cc5b2",
   "metadata": {},
   "outputs": [
    {
     "data": {
      "text/plain": [
       "False"
      ]
     },
     "execution_count": 47,
     "metadata": {},
     "output_type": "execute_result"
    }
   ],
   "source": [
    "#Comparison Operators\n",
    "1 > 2"
   ]
  },
  {
   "cell_type": "code",
   "execution_count": 50,
   "id": "9e9d1d8a",
   "metadata": {},
   "outputs": [
    {
     "data": {
      "text/plain": [
       "True"
      ]
     },
     "execution_count": 50,
     "metadata": {},
     "output_type": "execute_result"
    }
   ],
   "source": [
    "1 == 1"
   ]
  },
  {
   "cell_type": "code",
   "execution_count": 48,
   "id": "a3934fd0",
   "metadata": {},
   "outputs": [
    {
     "data": {
      "text/plain": [
       "True"
      ]
     },
     "execution_count": 48,
     "metadata": {},
     "output_type": "execute_result"
    }
   ],
   "source": [
    "2 < 3"
   ]
  },
  {
   "cell_type": "code",
   "execution_count": 49,
   "id": "1870e833",
   "metadata": {},
   "outputs": [
    {
     "data": {
      "text/plain": [
       "False"
      ]
     },
     "execution_count": 49,
     "metadata": {},
     "output_type": "execute_result"
    }
   ],
   "source": [
    "4 >= 5"
   ]
  },
  {
   "cell_type": "code",
   "execution_count": 54,
   "id": "05b37ab8",
   "metadata": {},
   "outputs": [],
   "source": [
    "# logical operators: \"and\" / \"or\"\n",
    "# python doesnt have != for not equal same as in Java\n",
    "# except python uses and not"
   ]
  },
  {
   "cell_type": "code",
   "execution_count": 52,
   "id": "8bb4a7df",
   "metadata": {},
   "outputs": [
    {
     "data": {
      "text/plain": [
       "False"
      ]
     },
     "execution_count": 52,
     "metadata": {},
     "output_type": "execute_result"
    }
   ],
   "source": [
    "(1==2) and (1==1)"
   ]
  },
  {
   "cell_type": "code",
   "execution_count": 53,
   "id": "3dd61f4a",
   "metadata": {},
   "outputs": [
    {
     "data": {
      "text/plain": [
       "True"
      ]
     },
     "execution_count": 53,
     "metadata": {},
     "output_type": "execute_result"
    }
   ],
   "source": [
    "(1==2) or (1==1)"
   ]
  },
  {
   "cell_type": "code",
   "execution_count": 55,
   "id": "48cfa9d1",
   "metadata": {},
   "outputs": [],
   "source": [
    "# indentation is important for control statements if, elif, and else"
   ]
  },
  {
   "cell_type": "code",
   "execution_count": 58,
   "id": "b8fe4bbc",
   "metadata": {},
   "outputs": [
    {
     "name": "stdout",
     "output_type": "stream",
     "text": [
      "two\n"
     ]
    }
   ],
   "source": [
    "if (1==2):\n",
    "    print(\"hello\")\n",
    "elif 2==2:\n",
    "    print(\"two\")\n",
    "else:\n",
    "    print(\"if statement was not true\")"
   ]
  },
  {
   "cell_type": "code",
   "execution_count": 59,
   "id": "5f2c4263",
   "metadata": {},
   "outputs": [],
   "source": [
    "# for loops"
   ]
  },
  {
   "cell_type": "code",
   "execution_count": 60,
   "id": "83c4932d",
   "metadata": {},
   "outputs": [],
   "source": [
    "seq = [1,2,3,4,5]"
   ]
  },
  {
   "cell_type": "code",
   "execution_count": 61,
   "id": "78ad7a28",
   "metadata": {},
   "outputs": [
    {
     "name": "stdout",
     "output_type": "stream",
     "text": [
      "1\n",
      "2\n",
      "3\n",
      "4\n",
      "5\n"
     ]
    }
   ],
   "source": [
    "for item in seq:\n",
    "    print(item)"
   ]
  },
  {
   "cell_type": "code",
   "execution_count": 63,
   "id": "67457019",
   "metadata": {},
   "outputs": [
    {
     "name": "stdout",
     "output_type": "stream",
     "text": [
      "1\n",
      "4\n",
      "9\n",
      "16\n",
      "25\n"
     ]
    }
   ],
   "source": [
    "for num in seq:\n",
    "    print(num**2)"
   ]
  },
  {
   "cell_type": "code",
   "execution_count": 74,
   "id": "c93d8a4d",
   "metadata": {},
   "outputs": [
    {
     "name": "stdout",
     "output_type": "stream",
     "text": [
      "i is currently 1.\n",
      "i is currently 2.\n",
      "i is currently 3.\n",
      "i is currently 4.\n"
     ]
    }
   ],
   "source": [
    "# while loops\n",
    "i = 1\n",
    "while i < 5:\n",
    "    print(\"i is currently {}.\".format(i))\n",
    "    i +=1"
   ]
  },
  {
   "cell_type": "code",
   "execution_count": 76,
   "id": "e9195d1f",
   "metadata": {},
   "outputs": [],
   "source": [
    "#range(n) function\n",
    "# it returns a seq of num from 0 to n-1. [0,n)"
   ]
  },
  {
   "cell_type": "code",
   "execution_count": 77,
   "id": "80ef8f2e",
   "metadata": {},
   "outputs": [
    {
     "data": {
      "text/plain": [
       "range(0, 5)"
      ]
     },
     "execution_count": 77,
     "metadata": {},
     "output_type": "execute_result"
    }
   ],
   "source": [
    "range(5)"
   ]
  },
  {
   "cell_type": "code",
   "execution_count": 78,
   "id": "dd309133",
   "metadata": {},
   "outputs": [],
   "source": [
    "range_list = list(range(1,11))"
   ]
  },
  {
   "cell_type": "code",
   "execution_count": 79,
   "id": "b16a2218",
   "metadata": {},
   "outputs": [
    {
     "name": "stdout",
     "output_type": "stream",
     "text": [
      "[1, 2, 3, 4, 5, 6, 7, 8, 9, 10]\n"
     ]
    }
   ],
   "source": [
    "print(range_list)"
   ]
  },
  {
   "cell_type": "code",
   "execution_count": 82,
   "id": "d6c0a315",
   "metadata": {},
   "outputs": [
    {
     "data": {
      "text/plain": [
       "[1, 4, 9]"
      ]
     },
     "execution_count": 82,
     "metadata": {},
     "output_type": "execute_result"
    }
   ],
   "source": [
    "x = [1,2,3]\n",
    "# list comprehension\n",
    "# it is like a squished for loop inside a list\n",
    "list_comprehension_list = [num**2 for num in x]\n",
    "list_comprehension_list"
   ]
  },
  {
   "cell_type": "code",
   "execution_count": 83,
   "id": "f61154bf",
   "metadata": {},
   "outputs": [],
   "source": [
    "def my_func(param):\n",
    "    print(param)"
   ]
  },
  {
   "cell_type": "code",
   "execution_count": 84,
   "id": "fd67b4dc",
   "metadata": {},
   "outputs": [
    {
     "name": "stdout",
     "output_type": "stream",
     "text": [
      "Jose\n"
     ]
    }
   ],
   "source": [
    "my_func('Jose')"
   ]
  },
  {
   "cell_type": "code",
   "execution_count": 87,
   "id": "b8dee164",
   "metadata": {},
   "outputs": [],
   "source": [
    "def my_func(param= 'default'):\n",
    "    \"\"\"\n",
    "    Docstring goes here, which explains what it's going\n",
    "    \n",
    "    \"\"\"\n",
    "    print(param)\n",
    "    \"\"\"\n",
    "    this prints the param\n",
    "    \"\"\"\n"
   ]
  },
  {
   "cell_type": "code",
   "execution_count": 88,
   "id": "e17947fd",
   "metadata": {},
   "outputs": [],
   "source": [
    "# in order to write documentation quotes similar to \\* *\\ in java,\n",
    "# we use the triple \"\" such as this \"\"\" \"\"\""
   ]
  },
  {
   "cell_type": "code",
   "execution_count": 90,
   "id": "15e75191",
   "metadata": {},
   "outputs": [
    {
     "name": "stdout",
     "output_type": "stream",
     "text": [
      "ilia\n"
     ]
    }
   ],
   "source": [
    "my_func(\"ilia\")"
   ]
  },
  {
   "cell_type": "code",
   "execution_count": 91,
   "id": "4cd43ac3",
   "metadata": {},
   "outputs": [],
   "source": [
    "def my_func(num = 2):\n",
    "    \"\"\"\n",
    "    Docstring goes here, which explains what it's going\n",
    "    \n",
    "    \"\"\"\n",
    "    return num*2\n",
    "    # the return statements allows me to assign it to a variable\n"
   ]
  },
  {
   "cell_type": "code",
   "execution_count": 92,
   "id": "c582c52a",
   "metadata": {},
   "outputs": [
    {
     "data": {
      "text/plain": [
       "10"
      ]
     },
     "execution_count": 92,
     "metadata": {},
     "output_type": "execute_result"
    }
   ],
   "source": [
    "my_func(5)"
   ]
  },
  {
   "cell_type": "code",
   "execution_count": 93,
   "id": "5f5e26e9",
   "metadata": {},
   "outputs": [
    {
     "data": {
      "text/plain": [
       "4"
      ]
     },
     "execution_count": 93,
     "metadata": {},
     "output_type": "execute_result"
    }
   ],
   "source": [
    "my_func()"
   ]
  },
  {
   "cell_type": "code",
   "execution_count": 94,
   "id": "85fe411b",
   "metadata": {},
   "outputs": [],
   "source": [
    "# lambda functions\n",
    "# these are temporary functions without a name that are used once"
   ]
  },
  {
   "cell_type": "code",
   "execution_count": 110,
   "id": "fab06560",
   "metadata": {},
   "outputs": [],
   "source": [
    "# what a general functions looks like\n",
    "def times_two (var):\n",
    "    return var*2\n",
    "\n",
    "# this is the corresponding lambda expression\n",
    "# we remove the def keyword and change it to lambda\n",
    "# we remove the function name\n",
    "# lambda expressions are really useful when used inside other bigger funcs\n",
    "# as an input argument\n",
    "lam_result = lambda var: var*2"
   ]
  },
  {
   "cell_type": "code",
   "execution_count": 111,
   "id": "2aa176f2",
   "metadata": {},
   "outputs": [
    {
     "data": {
      "text/plain": [
       "8"
      ]
     },
     "execution_count": 111,
     "metadata": {},
     "output_type": "execute_result"
    }
   ],
   "source": [
    "result = times_two(4)\n",
    "result"
   ]
  },
  {
   "cell_type": "code",
   "execution_count": 112,
   "id": "bc76febe",
   "metadata": {},
   "outputs": [
    {
     "name": "stdout",
     "output_type": "stream",
     "text": [
      "<function <lambda> at 0x000001EE901A2310>\n"
     ]
    }
   ],
   "source": [
    "print(lam_result)"
   ]
  },
  {
   "cell_type": "code",
   "execution_count": 113,
   "id": "e04faed5",
   "metadata": {},
   "outputs": [],
   "source": [
    "seq = [1,2,3,4,5]"
   ]
  },
  {
   "cell_type": "code",
   "execution_count": 115,
   "id": "a712f8ce",
   "metadata": {},
   "outputs": [
    {
     "data": {
      "text/plain": [
       "[2, 4, 6, 8, 10]"
      ]
     },
     "execution_count": 115,
     "metadata": {},
     "output_type": "execute_result"
    }
   ],
   "source": [
    "# just using the function name\n",
    "list(map(times_two,seq))"
   ]
  },
  {
   "cell_type": "code",
   "execution_count": 116,
   "id": "ecc97b23",
   "metadata": {},
   "outputs": [
    {
     "data": {
      "text/plain": [
       "[2, 4, 6, 8, 10]"
      ]
     },
     "execution_count": 116,
     "metadata": {},
     "output_type": "execute_result"
    }
   ],
   "source": [
    "# using the lambda expression\n",
    "list(map(lambda var: var*2, seq))"
   ]
  },
  {
   "cell_type": "code",
   "execution_count": 118,
   "id": "3463f2bf",
   "metadata": {},
   "outputs": [],
   "source": [
    "# map takes a function and a pointer to an iterable collection to create new objects\n",
    "# filter is similar to a map but creates objects based on a condition"
   ]
  },
  {
   "cell_type": "code",
   "execution_count": 119,
   "id": "cfa01ee0",
   "metadata": {},
   "outputs": [],
   "source": [
    "def is_even(num):\n",
    "    return num%2 == 0"
   ]
  },
  {
   "cell_type": "code",
   "execution_count": 121,
   "id": "456ea2f1",
   "metadata": {},
   "outputs": [
    {
     "data": {
      "text/plain": [
       "[2, 4]"
      ]
     },
     "execution_count": 121,
     "metadata": {},
     "output_type": "execute_result"
    }
   ],
   "source": [
    "# using the filter function and another function (and its name) for our condition\n",
    "list(filter(is_even,seq))"
   ]
  },
  {
   "cell_type": "code",
   "execution_count": 122,
   "id": "6d6d83d6",
   "metadata": {},
   "outputs": [
    {
     "data": {
      "text/plain": [
       "[2, 4]"
      ]
     },
     "execution_count": 122,
     "metadata": {},
     "output_type": "execute_result"
    }
   ],
   "source": [
    "# same example as above but using a lambda expression\n",
    "list(filter(lambda num: num%2==0,seq))"
   ]
  },
  {
   "cell_type": "code",
   "execution_count": 123,
   "id": "c9b43c98",
   "metadata": {},
   "outputs": [],
   "source": [
    "# Useful Methods"
   ]
  },
  {
   "cell_type": "code",
   "execution_count": 124,
   "id": "9065ebe0",
   "metadata": {},
   "outputs": [],
   "source": [
    "st = 'hello my name is Ilia'"
   ]
  },
  {
   "cell_type": "code",
   "execution_count": 125,
   "id": "aae40592",
   "metadata": {},
   "outputs": [
    {
     "data": {
      "text/plain": [
       "'hello my name is ilia'"
      ]
     },
     "execution_count": 125,
     "metadata": {},
     "output_type": "execute_result"
    }
   ],
   "source": [
    "st.lower()"
   ]
  },
  {
   "cell_type": "code",
   "execution_count": 126,
   "id": "7ddc0e7f",
   "metadata": {},
   "outputs": [
    {
     "data": {
      "text/plain": [
       "'HELLO MY NAME IS ILIA'"
      ]
     },
     "execution_count": 126,
     "metadata": {},
     "output_type": "execute_result"
    }
   ],
   "source": [
    "st.upper()"
   ]
  },
  {
   "cell_type": "code",
   "execution_count": 127,
   "id": "6e5effd4",
   "metadata": {},
   "outputs": [
    {
     "name": "stdout",
     "output_type": "stream",
     "text": [
      "HELLO MY NAME IS ILIA\n"
     ]
    }
   ],
   "source": [
    "st_upper = st.upper()\n",
    "print(st_upper)"
   ]
  },
  {
   "cell_type": "code",
   "execution_count": 128,
   "id": "4a24df3e",
   "metadata": {},
   "outputs": [],
   "source": [
    "tweet = \"Go Sports! #cool\""
   ]
  },
  {
   "cell_type": "code",
   "execution_count": 130,
   "id": "4a94ba05",
   "metadata": {},
   "outputs": [
    {
     "data": {
      "text/plain": [
       "['Go', 'Sports!', '#cool']"
      ]
     },
     "execution_count": 130,
     "metadata": {},
     "output_type": "execute_result"
    }
   ],
   "source": [
    "# by default, it returns a sequence of strings split at the space, the white space\n",
    "tweet.split()"
   ]
  },
  {
   "cell_type": "code",
   "execution_count": 132,
   "id": "3f0694f4",
   "metadata": {},
   "outputs": [
    {
     "data": {
      "text/plain": [
       "['Go Sports! ', 'cool']"
      ]
     },
     "execution_count": 132,
     "metadata": {},
     "output_type": "execute_result"
    }
   ],
   "source": [
    "# returns a sequence/list of strings split at the #, or any other identified character\n",
    "tweet.split(\"#\")"
   ]
  },
  {
   "cell_type": "code",
   "execution_count": 133,
   "id": "cad47697",
   "metadata": {},
   "outputs": [
    {
     "data": {
      "text/plain": [
       "{'key': 10, 'key2': 'secondItem'}"
      ]
     },
     "execution_count": 133,
     "metadata": {},
     "output_type": "execute_result"
    }
   ],
   "source": [
    "d"
   ]
  },
  {
   "cell_type": "code",
   "execution_count": null,
   "id": "f78b9156",
   "metadata": {},
   "outputs": [],
   "source": []
  }
 ],
 "metadata": {
  "kernelspec": {
   "display_name": "Python 3 (ipykernel)",
   "language": "python",
   "name": "python3"
  },
  "language_info": {
   "codemirror_mode": {
    "name": "ipython",
    "version": 3
   },
   "file_extension": ".py",
   "mimetype": "text/x-python",
   "name": "python",
   "nbconvert_exporter": "python",
   "pygments_lexer": "ipython3",
   "version": "3.9.13"
  }
 },
 "nbformat": 4,
 "nbformat_minor": 5
}
