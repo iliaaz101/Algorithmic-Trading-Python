{
 "cells": [
  {
   "cell_type": "markdown",
   "id": "1f9eecdf",
   "metadata": {},
   "source": [
    "## Algorithmic Trading (AT): Core Concepts\n",
    "- how is an algorithm tested?\n",
    "    - we need to test it on some part of history to see how it would perform\n",
    "        - even if we know what's going to happen in the past data, we can't let the AT know\n",
    "    - the AT would start at the beginning of the historical data and using the rules that you gave it, it will buy/sell/and hold.\n",
    "        - in the end, we would get a report of how our algorithm performed in a **backtesting reform** which gives us metric based on our performance\n",
    "- after backtesting, once we deploy the AT on current time, it can use Past Data to inform current decisions\n",
    "    - **careful not to make assumptions about the unknown future of the market**\n",
    "        - developer assumptions about the market can create a biased AT\n",
    "        - e.g. hard coding prices for entry an exit imply future knowledge of proces\n",
    "            - buy 100 and sell for 200. We have no proof that the market would ever reach these prices, in which case the AT might not be executed\n"
   ]
  },
  {
   "cell_type": "markdown",
   "id": "3d06024e",
   "metadata": {},
   "source": [
    "- just as we did for measuremnts of return and risk, we want to normalize algorithmic strategies for an unknown future\n",
    "- it makes more sense to define a purchase in units of stok or percentage of portfolio, rather than hard coding the dollar amount\n",
    "    - similar to getting a dollar return amount vs a percentange return (normalized, can compare across securities/time frames)\n",
    "- **Better Strategy: Normalized AT orders**\n",
    "    - Buy 1 share of XYZ (*Assuming XYZ still exists!*)\n",
    "    - Sell when price is 2 times original purchase price.\n",
    "- **Even Better Strategy: Normalized AT orders, more Robust**\n",
    "    - Buy 1 share of top market cap stock (could be any company)\n",
    "    - Sell when price is 2 times original purchase price.\n",
    "-**It can be deceiving to define robust rules since we will have very clear information about past data**\n",
    "    - we want our algo to have the ability to continually update itself based on new past data that it receives once it's been live for a while"
   ]
  },
  {
   "cell_type": "markdown",
   "id": "2b1d8a45",
   "metadata": {},
   "source": [
    "## Algorithmic Trading (AT) Basics:\n",
    "- Pricing Stocks:\n",
    "    - What are the mechanics behind the price of a stock\n",
    "        - the price of a share of tsick is whatever someone is wiling to pay for that share at a particular moment in time\n",
    "    - Bid-Ask Spread\n",
    "        - difference between the price someone will pay (**bid**) for a share and the prie someone is willing to sell the share for (**ask**)\n",
    "        - the more **liquid** a stock is, the smaller this bid-ask spread\n",
    "            - more liquid, more supply, less spread\n",
    "        "
   ]
  },
  {
   "cell_type": "markdown",
   "id": "ae6555ba",
   "metadata": {},
   "source": [
    "### Issuance and Dilution\n",
    "- **Issuance** (positive or negative outlook)\n",
    "    - negative:\n",
    "        - issuing new shres could be a sign that the company is in trouble and cannot raise cash through revenue or is unable to issues debt\n",
    "    - positive:\n",
    "        - could also be a sign that the company sees an opportunity to quickly raise cash for a great investment opportunity that will make up for any dilution through a future rise in total value\n",
    "            - e.g. Tesla's pricing going up even as they were issuing new shares\n",
    "- **Dilution**\n",
    "    - when issuing new stocks reduces a pre-existing owners stock percent ownership\n",
    "        - e.g. you have 1 out of 5 stocks (20% ownership) but company releases 2 new shares, so now you have 1 out of 7 stocks (14.3% ownership)\n",
    "- Stock Splits (increases liquidity, decreases stock price)\n",
    "    - does not dilute any existing shareholder value\n",
    "    - it simply splits existing shares into smaller components\n",
    "    - e.g. you own 1 out of 5 stocks at 10 a share. Then there's a 2-1 stock split, so that now each stock is split into 2, so 1 10 stock is split into 2 5 stocks. You now own 2 stocks (total worth still 10) out of the 10 outstanding stocks. You still own 10% (2 out of 10) stocks owned. There has been no dilution\n",
    "- Reverse Stock Splits (increases price, lower liquidity):\n",
    "    - consolidating shares from multiple subunits into bigger units\n",
    "    - still doesnt affect market cap\n",
    "    - generally seen as bad\n",
    "        - Often investors or exchanges have minimum price stipulations, and if a shre price has dropped too low, a company me reverse stock split in an attempt to raise the price of the stock\n",
    "        - e.g. when the stock price is going so low that you might be kicked off the exchange. The company consolidates their shares so the price of unit is higher\n",
    "        "
   ]
  },
  {
   "cell_type": "markdown",
   "id": "876b54ab",
   "metadata": {},
   "source": [
    "*How to keep track of all these possible changes in stock prices and share ratios?*\n",
    "- **Adjusted Close price takes into account corporate actions**\n"
   ]
  },
  {
   "cell_type": "markdown",
   "id": "2de1ea3c",
   "metadata": {},
   "source": [
    "#### Changes in Ownership Percentage\n",
    "- **New Stock Issuance**\n",
    "    - company issues and sells new shares, decreasing ownership of existing shareholders\n",
    "- **Stock Buyback**\n",
    "    - company buys shares, increase ownership existing shareholders"
   ]
  },
  {
   "cell_type": "markdown",
   "id": "cf9913e0",
   "metadata": {},
   "source": [
    "#### No change in Ownership Percentage\n",
    "- **Stock Split**\n",
    "    - shareholder maintain same percentage, but have higher number of shares\n",
    "- **Reverse Stock Split**\n",
    "    - shareholders maintain same percentage, but have less shares "
   ]
  },
  {
   "cell_type": "code",
   "execution_count": 1,
   "id": "ddbbde48",
   "metadata": {},
   "outputs": [
    {
     "ename": "ModuleNotFoundError",
     "evalue": "No module named 'AlgorithmImports'",
     "output_type": "error",
     "traceback": [
      "\u001b[1;31m---------------------------------------------------------------------------\u001b[0m",
      "\u001b[1;31mModuleNotFoundError\u001b[0m                       Traceback (most recent call last)",
      "\u001b[1;32m~\\AppData\\Local\\Temp\\ipykernel_22456\\595178505.py\u001b[0m in \u001b[0;36m<module>\u001b[1;34m\u001b[0m\n\u001b[0;32m      1\u001b[0m \u001b[1;31m#region imports\u001b[0m\u001b[1;33m\u001b[0m\u001b[1;33m\u001b[0m\u001b[0m\n\u001b[1;32m----> 2\u001b[1;33m \u001b[1;32mfrom\u001b[0m \u001b[0mAlgorithmImports\u001b[0m \u001b[1;32mimport\u001b[0m \u001b[1;33m*\u001b[0m\u001b[1;33m\u001b[0m\u001b[1;33m\u001b[0m\u001b[0m\n\u001b[0m\u001b[0;32m      3\u001b[0m \u001b[1;31m#endregion\u001b[0m\u001b[1;33m\u001b[0m\u001b[1;33m\u001b[0m\u001b[0m\n\u001b[0;32m      4\u001b[0m \u001b[1;32mclass\u001b[0m \u001b[0mBuyAndHold\u001b[0m\u001b[1;33m(\u001b[0m\u001b[0mQCAlgorithm\u001b[0m\u001b[1;33m)\u001b[0m\u001b[1;33m:\u001b[0m\u001b[1;33m\u001b[0m\u001b[1;33m\u001b[0m\u001b[0m\n\u001b[0;32m      5\u001b[0m \u001b[1;33m\u001b[0m\u001b[0m\n",
      "\u001b[1;31mModuleNotFoundError\u001b[0m: No module named 'AlgorithmImports'"
     ]
    }
   ],
   "source": [
    "#region imports\n",
    "from AlgorithmImports import *\n",
    "#endregion\n",
    "class BuyAndHold(QCAlgorithm):\n",
    "\n",
    "    \"\"\"\n",
    "    initialize is where our key params are for\n",
    "    defining scope of our backtest are\n",
    "    Needed:\n",
    "    1) Backtest Startdate\n",
    "    2) Backtest Enddate\n",
    "    3) Starting capital/cash\n",
    "    4) Securities we're trading\n",
    "    \"\"\"\n",
    "    def Initialize(self):\n",
    "        self.SetStartDate(2015,1,1)\n",
    "        self.SetEndDate(2020,1,1)\n",
    "        self.SetCash(10000)\n",
    "        # List of all possible equities you're interested\n",
    "        # Doesnt mean you want to buy them\n",
    "        self.AddEquity(\"AAPL\",Resolution.Daily)\n",
    "        self.AddEquity('MSFT',Resolution.Daily)\n",
    "\n",
    "    def OnData(self,data):\n",
    "\n",
    "        if not self.Portfolio.Invested:\n",
    "            self.SetHoldings('AAPL',0.5)\n",
    "            self.SetHoldings('MSFT',0.5)"
   ]
  },
  {
   "cell_type": "markdown",
   "id": "76cb719d",
   "metadata": {},
   "source": [
    "## Market Order\n",
    "- to buy or sell at whatever price is currently accepted by the market\n",
    "- there is no limitation on the price\n",
    "- dealing with a lot of shares during buy/sell actions could lead to us going down the order book to fulfill our orders\n",
    "    - e.g. buy 2000 shares, but 500 at 50, buy 1000 shares at 50.50, and buy another 500 and 51 dollars\n",
    "        - the more shares you buy, the more you have to pay for each subsequent share\n",
    "    - e.g. selling shares is similar to buying shares\n",
    "        - the more shares you sell, the less you have to sell each share for\n",
    "- typically, Market Orders have no issues with fulfillment, since you are willing to accept any market price\n"
   ]
  },
  {
   "cell_type": "markdown",
   "id": "95558e0a",
   "metadata": {},
   "source": [
    "## Limit Order\n",
    "- limit order only gest filled for the limit price specified\n",
    "- no guarantee that the limit order would be executed\n",
    "- unlike a market order, a limit order is not necessarily immediately filled"
   ]
  },
  {
   "cell_type": "markdown",
   "id": "2239ec48",
   "metadata": {},
   "source": [
    "## Getting Price and Share Information\n",
    "- Market Share Price\n",
    "- Purchasing Power (Number of shares we can afford)\n",
    "- Executing an order based on some price change\n",
    "\n",
    "#### New Ideas\n",
    "- self.Portfolio.Cash --> property that tells us how much unused csah we have\n",
    "- OnOrderEvent"
   ]
  },
  {
   "cell_type": "markdown",
   "id": "f9da469b",
   "metadata": {},
   "source": [
    "## OrderTicket System:\n",
    "- Upon sending an order to the broker (to buy, sell, etc.), we receive back an **OrderTicket** object\n",
    "- this OrderTicket object has:\n",
    "    - attributes and proporties that can be updated(e.g. LimitPrice)\n",
    "    - OrderEvent objects that are returned if an event occurs with the order  (e.g. the order is filled)\n",
    "- So we only have the OrderEvent object in our OrderTicket once an event occurs with the order\n",
    "- the **OnOrderEvent Method** is listening to these order events\n",
    "    - we can use the OnOrderEvent method to check the OrderTicket status against a set of possible OrderStatus attributes\n",
    "        - we can check the status of our order (e.g. OrderEvent.Status == OrderStatus.Submitted)\n",
    "            - there are different status for the order ticket:\n",
    "                - OrderStatus.New\n",
    "                - OrderStatus.Submitted\n",
    "                - Order.PartiallyFilled\n",
    "                - OrderStatus.Filled\n",
    "                - OrderStatus.Canceled\n",
    "                - OrderStatus.Invalid\n",
    "                - OrderStatus.CancelPending\n",
    "                - OrderStatus.UpdateSubmitted\n",
    "\n",
    "\n",
    "    "
   ]
  },
  {
   "cell_type": "markdown",
   "id": "63e35653",
   "metadata": {},
   "source": [
    "### Updating OrderTicket Attributes\n",
    "- we can update OrderTicket attributes through the **UpdateOrderFields OBJECT**\n",
    "- First, we create an instance of the UpdateOrderFields class by calling its constructor UpdateOrderFields()\n",
    "- Then, we pass the UpdateOrderFields Object to the **OrderTicket.Update() method**\n",
    "    - The Update() method returns an OrderResponse object indicating a signal for the request\n",
    "        - Similarly to the OrderStatus, there are 7 different OrderResponse properties/values\n",
    "    "
   ]
  },
  {
   "cell_type": "markdown",
   "id": "754534d2",
   "metadata": {},
   "source": [
    "## Conditional Purchasing - Scheduling Functions\n",
    "- we can create custom methods inside our algo and schedule when the method is triggered when the algo is running\n",
    "- Scheduling is one through 2 main mechanisms:\n",
    "- https://www.quantconnect.com/docs/v2/writing-algorithms/scheduled-events\n",
    "    - DateRules\n",
    "        - specify the trigger day\n",
    "        - *many options, check doc*\n",
    "    - TimeRules\n",
    "        - specify the trigger time\n",
    "        - *many options, check doc*\n",
    "\n",
    "- Inside of our Initialize() method call we call:\n",
    "    - Schedule.On() method which takes 3 arguments:\n",
    "        - 1) DateRules()\n",
    "        - 2) TimeRules()\n",
    "        - 3) name of the method you want to schedule"
   ]
  },
  {
   "cell_type": "code",
   "execution_count": null,
   "id": "c01e4d9a",
   "metadata": {},
   "outputs": [],
   "source": []
  }
 ],
 "metadata": {
  "kernelspec": {
   "display_name": "Python 3 (ipykernel)",
   "language": "python",
   "name": "python3"
  },
  "language_info": {
   "codemirror_mode": {
    "name": "ipython",
    "version": 3
   },
   "file_extension": ".py",
   "mimetype": "text/x-python",
   "name": "python",
   "nbconvert_exporter": "python",
   "pygments_lexer": "ipython3",
   "version": "3.9.13"
  }
 },
 "nbformat": 4,
 "nbformat_minor": 5
}
