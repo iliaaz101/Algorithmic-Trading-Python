{
 "cells": [
  {
   "cell_type": "markdown",
   "id": "1f9eecdf",
   "metadata": {},
   "source": [
    "## Algorithmic Trading (AT): Core Concepts\n",
    "- how is an algorithm tested?\n",
    "    - we need to test it on some part of history to see how it would perform\n",
    "        - even if we know what's going to happen in the past data, we can't let the AT know\n",
    "    - the AT would start at the beginning of the historical data and using the rules that you gave it, it will buy/sell/and hold.\n",
    "        - in the end, we would get a report of how our algorithm performed in a **backtesting reform** which gives us metric based on our performance\n",
    "- after backtesting, once we deploy the AT on current time, it can use Past Data to inform current decisions\n",
    "    - **careful not to make assumptions about the unknown future of the market**\n",
    "        - developer assumptions about the market can create a biased AT\n",
    "        - e.g. hard coding prices for entry an exit imply future knowledge of proces\n",
    "            - buy 100 and sell for 200. We have no proof that the market would ever reach these prices, in which case the AT might not be executed\n"
   ]
  },
  {
   "cell_type": "markdown",
   "id": "3d06024e",
   "metadata": {},
   "source": [
    "- just as we did for measuremnts of return and risk, we want to normalize algorithmic strategies for an unknown future\n",
    "- it makes more sense to define a purchase in units of stok or percentage of portfolio, rather than hard coding the dollar amount\n",
    "    - similar to getting a dollar return amount vs a percentange return (normalized, can compare across securities/time frames)\n",
    "- **Better Strategy: Normalized AT orders**\n",
    "    - Buy 1 share of XYZ (*Assuming XYZ still exists!*)\n",
    "    - Sell when price is 2 times original purchase price.\n",
    "- **Even Better Strategy: Normalized AT orders, more Robust**\n",
    "    - Buy 1 share of top market cap stock (could be any company)\n",
    "    - Sell when price is 2 times original purchase price.\n",
    "-**It can be deceiving to define robust rules since we will have very clear information about past data**\n",
    "    - we want our algo to have the ability to continually update itself based on new past data that it receives once it's been live for a while"
   ]
  },
  {
   "cell_type": "markdown",
   "id": "2b1d8a45",
   "metadata": {},
   "source": [
    "## Algorithmic Trading (AT) Basics:\n",
    "- Pricing Stocks:\n",
    "    - What are the mechanics behind the price of a stock\n",
    "        - the price of a share of tsick is whatever someone is wiling to pay for that share at a particular moment in time\n",
    "    - Bid-Ask Spread\n",
    "        - difference between the price someone will pay (**bid**) for a share and the prie someone is willing to sell the share for (**ask**)\n",
    "        - the more **liquid** a stock is, the smaller this bid-ask spread\n",
    "            - more liquid, more supply, less spread\n",
    "        "
   ]
  },
  {
   "cell_type": "markdown",
   "id": "ae6555ba",
   "metadata": {},
   "source": [
    "### Issuance and Dilution\n",
    "- **Issuance** (positive or negative outlook)\n",
    "    - negative:\n",
    "        - issuing new shres could be a sign that the company is in trouble and cannot raise cash through revenue or is unable to issues debt\n",
    "    - positive:\n",
    "        - could also be a sign that the company sees an opportunity to quickly raise cash for a great investment opportunity that will make up for any dilution through a future rise in total value\n",
    "            - e.g. Tesla's pricing going up even as they were issuing new shares\n",
    "- **Dilution**\n",
    "    - when issuing new stocks reduces a pre-existing owners stock percent ownership\n",
    "        - e.g. you have 1 out of 5 stocks (20% ownership) but company releases 2 new shares, so now you have 1 out of 7 stocks (14.3% ownership)\n",
    "- Stock Splits (increases liquidity, decreases stock price)\n",
    "    - does not dilute any existing shareholder value\n",
    "    - it simply splits existing shares into smaller components\n",
    "    - e.g. you own 1 out of 5 stocks at 10 a share. Then there's a 2-1 stock split, so that now each stock is split into 2, so 1 10 stock is split into 2 5 stocks. You now own 2 stocks (total worth still 10) out of the 10 outstanding stocks. You still own 10% (2 out of 10) stocks owned. There has been no dilution\n",
    "- Reverse Stock Splits (increases price, lower liquidity):\n",
    "    - consolidating shares from multiple subunits into bigger units\n",
    "    - still doesnt affect market cap\n",
    "    - generally seen as bad\n",
    "        - Often investors or exchanges have minimum price stipulations, and if a shre price has dropped too low, a company me reverse stock split in an attempt to raise the price of the stock\n",
    "        - e.g. when the stock price is going so low that you might be kicked off the exchange. The company consolidates their shares so the price of unit is higher\n",
    "        "
   ]
  },
  {
   "cell_type": "markdown",
   "id": "876b54ab",
   "metadata": {},
   "source": [
    "*How to keep track of all these possible changes in stock prices and share ratios?*\n",
    "- **Adjusted Close price takes into account corporate actions**\n"
   ]
  },
  {
   "cell_type": "markdown",
   "id": "2de1ea3c",
   "metadata": {},
   "source": [
    "#### Changes in Ownership Percentage\n",
    "- **New Stock Issuance**\n",
    "    - company issues and sells new shares, decreasing ownership of existing shareholders\n",
    "- **Stock Buyback**\n",
    "    - company buys shares, increase ownership existing shareholders"
   ]
  },
  {
   "cell_type": "markdown",
   "id": "cf9913e0",
   "metadata": {},
   "source": [
    "#### No change in Ownership Percentage\n",
    "- **Stock Split**\n",
    "    - shareholder maintain same percentage, but have higher number of shares\n",
    "- **Reverse Stock Split**\n",
    "    - shareholders maintain same percentage, but have less shares "
   ]
  },
  {
   "cell_type": "code",
   "execution_count": 1,
   "id": "ddbbde48",
   "metadata": {},
   "outputs": [
    {
     "ename": "ModuleNotFoundError",
     "evalue": "No module named 'AlgorithmImports'",
     "output_type": "error",
     "traceback": [
      "\u001b[1;31m---------------------------------------------------------------------------\u001b[0m",
      "\u001b[1;31mModuleNotFoundError\u001b[0m                       Traceback (most recent call last)",
      "\u001b[1;32m~\\AppData\\Local\\Temp\\ipykernel_22456\\595178505.py\u001b[0m in \u001b[0;36m<module>\u001b[1;34m\u001b[0m\n\u001b[0;32m      1\u001b[0m \u001b[1;31m#region imports\u001b[0m\u001b[1;33m\u001b[0m\u001b[1;33m\u001b[0m\u001b[0m\n\u001b[1;32m----> 2\u001b[1;33m \u001b[1;32mfrom\u001b[0m \u001b[0mAlgorithmImports\u001b[0m \u001b[1;32mimport\u001b[0m \u001b[1;33m*\u001b[0m\u001b[1;33m\u001b[0m\u001b[1;33m\u001b[0m\u001b[0m\n\u001b[0m\u001b[0;32m      3\u001b[0m \u001b[1;31m#endregion\u001b[0m\u001b[1;33m\u001b[0m\u001b[1;33m\u001b[0m\u001b[0m\n\u001b[0;32m      4\u001b[0m \u001b[1;32mclass\u001b[0m \u001b[0mBuyAndHold\u001b[0m\u001b[1;33m(\u001b[0m\u001b[0mQCAlgorithm\u001b[0m\u001b[1;33m)\u001b[0m\u001b[1;33m:\u001b[0m\u001b[1;33m\u001b[0m\u001b[1;33m\u001b[0m\u001b[0m\n\u001b[0;32m      5\u001b[0m \u001b[1;33m\u001b[0m\u001b[0m\n",
      "\u001b[1;31mModuleNotFoundError\u001b[0m: No module named 'AlgorithmImports'"
     ]
    }
   ],
   "source": [
    "#region imports\n",
    "from AlgorithmImports import *\n",
    "#endregion\n",
    "class BuyAndHold(QCAlgorithm):\n",
    "\n",
    "    \"\"\"\n",
    "    initialize is where our key params are for\n",
    "    defining scope of our backtest are\n",
    "    Needed:\n",
    "    1) Backtest Startdate\n",
    "    2) Backtest Enddate\n",
    "    3) Starting capital/cash\n",
    "    4) Securities we're trading\n",
    "    \"\"\"\n",
    "    def Initialize(self):\n",
    "        self.SetStartDate(2015,1,1)\n",
    "        self.SetEndDate(2020,1,1)\n",
    "        self.SetCash(10000)\n",
    "        # List of all possible equities you're interested\n",
    "        # Doesnt mean you want to buy them\n",
    "        self.AddEquity(\"AAPL\",Resolution.Daily)\n",
    "        self.AddEquity('MSFT',Resolution.Daily)\n",
    "\n",
    "    def OnData(self,data):\n",
    "\n",
    "        if not self.Portfolio.Invested:\n",
    "            self.SetHoldings('AAPL',0.5)\n",
    "            self.SetHoldings('MSFT',0.5)"
   ]
  },
  {
   "cell_type": "code",
   "execution_count": null,
   "id": "813198be",
   "metadata": {},
   "outputs": [],
   "source": []
  }
 ],
 "metadata": {
  "kernelspec": {
   "display_name": "Python 3 (ipykernel)",
   "language": "python",
   "name": "python3"
  },
  "language_info": {
   "codemirror_mode": {
    "name": "ipython",
    "version": 3
   },
   "file_extension": ".py",
   "mimetype": "text/x-python",
   "name": "python",
   "nbconvert_exporter": "python",
   "pygments_lexer": "ipython3",
   "version": "3.9.13"
  }
 },
 "nbformat": 4,
 "nbformat_minor": 5
}
